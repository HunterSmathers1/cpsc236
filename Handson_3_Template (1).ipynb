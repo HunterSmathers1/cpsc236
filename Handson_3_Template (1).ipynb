{
  "metadata": {
    "kernelspec": {
      "name": "python",
      "display_name": "Python (Pyodide)",
      "language": "python"
    },
    "language_info": {
      "codemirror_mode": {
        "name": "python",
        "version": 3
      },
      "file_extension": ".py",
      "mimetype": "text/x-python",
      "name": "python",
      "nbconvert_exporter": "python",
      "pygments_lexer": "ipython3",
      "version": "3.8"
    }
  },
  "nbformat_minor": 4,
  "nbformat": 4,
  "cells": [
    {
      "cell_type": "markdown",
      "source": "# Functions\n\nTo submit this assignment in D2l, post the link to your notebook file on your GitHub account.",
      "metadata": {}
    },
    {
      "cell_type": "markdown",
      "source": "## 4.1 Even or Odd Checker\nCreate a program that checks whether a number is even or odd.\n\n### Console:\n```powershell\nEven or Odd Checker\n\nEnter an integer: 33\nThis is an odd number.\n```\n\n### Specifications:\n- Store the code that gets user input and displays output in the main function.\n- Store the code that checks whether the number is even or odd in a separate function.\n- Assume that the user will enter a valid integer.\n",
      "metadata": {}
    },
    {
      "cell_type": "code",
      "source": "def e_o_checker(integer):\n    if integer % 2 > 0:\n        return('This is an odd number')\n    else:\n        return('This is an even number')\ndef main():\n    print('Even or Odd Checker\\n\\n')\n    number = int(input('Enter an integer: '))\n    print(e_o_checker(number))\nif __name__ == \"__main__\":\n    main()",
      "metadata": {
        "trusted": true
      },
      "outputs": [
        {
          "name": "stdout",
          "text": "Even or Odd Checker\n",
          "output_type": "stream"
        },
        {
          "ename": "<class 'TypeError'>",
          "evalue": "int() argument must be a string, a bytes-like object or a real number, not 'PyodideFuture'",
          "traceback": [
            "\u001b[0;31m---------------------------------------------------------------------------\u001b[0m",
            "\u001b[0;31mTypeError\u001b[0m                                 Traceback (most recent call last)",
            "Cell \u001b[0;32mIn[7], line 10\u001b[0m\n\u001b[1;32m      8\u001b[0m     number \u001b[38;5;241m=\u001b[39m \u001b[38;5;28mint\u001b[39m(\u001b[38;5;28minput\u001b[39m(\u001b[38;5;124m'\u001b[39m\u001b[38;5;124mEnter an integer:\u001b[39m\u001b[38;5;124m'\u001b[39m))\n\u001b[1;32m      9\u001b[0m     \u001b[38;5;28mprint\u001b[39m(e_o_checker(number))\n\u001b[0;32m---> 10\u001b[0m \u001b[43mmain\u001b[49m\u001b[43m(\u001b[49m\u001b[43m)\u001b[49m\n",
            "Cell \u001b[0;32mIn[7], line 8\u001b[0m, in \u001b[0;36mmain\u001b[0;34m()\u001b[0m\n\u001b[1;32m      6\u001b[0m \u001b[38;5;28;01mdef\u001b[39;00m \u001b[38;5;21mmain\u001b[39m():\n\u001b[1;32m      7\u001b[0m     \u001b[38;5;28mprint\u001b[39m(\u001b[38;5;124m'\u001b[39m\u001b[38;5;124mEven or Odd Checker\u001b[39m\u001b[38;5;124m'\u001b[39m)\n\u001b[0;32m----> 8\u001b[0m     number \u001b[38;5;241m=\u001b[39m \u001b[38;5;28;43mint\u001b[39;49m\u001b[43m(\u001b[49m\u001b[38;5;28;43minput\u001b[39;49m\u001b[43m(\u001b[49m\u001b[38;5;124;43m'\u001b[39;49m\u001b[38;5;124;43mEnter an integer:\u001b[39;49m\u001b[38;5;124;43m'\u001b[39;49m\u001b[43m)\u001b[49m\u001b[43m)\u001b[49m\n\u001b[1;32m      9\u001b[0m     \u001b[38;5;28mprint\u001b[39m(e_o_checker(number))\n",
            "\u001b[0;31mTypeError\u001b[0m: int() argument must be a string, a bytes-like object or a real number, not 'PyodideFuture'"
          ],
          "output_type": "error"
        }
      ],
      "execution_count": 7
    },
    {
      "cell_type": "markdown",
      "source": "## 4.2 - Feet and Meters Converter\nCreate a program that converts feet to meters and vice versa.\n\n### Console\n```powershell\nFeet and Meters Converter\n\nConversions Menu:\na.\tFeet to Meters\nb.\tMeters to Feet\nSelect a conversion (a/b): a\n\nEnter feet: 100\n30.48 meters\n\nWould you like to perform another conversion? (y/n): y \n\nConversions Menu:\na.\tFeet to Meters\nb.\tMeters to Feet\nSelect a conversion (a/b): b\n\nEnter meters: 100\n328.08 feet\n\nWould you like to perform another conversion? (y/n): n\n\nThanks, bye!\n```\n\n### Specifications:\n- The formula for converting feet to meters is:\n`feet = meters / 0.3048`\n\n- The formula for converting meters to feet is:\n`meters = feet * 0.3048`\n\n- Store the code that performs the conversions in functions within a module. For example, store the code that converts feet to meters in a function in a module.\n- Store the code that displays the title in its own function, and store the code that displays the menu in its own function, but store the rest of the code that gets input and displays output in a main function.\n- Assume the user will enter valid data.\n- The program should round results to a maximum of two decimal places.\n\n\n",
      "metadata": {}
    },
    {
      "cell_type": "code",
      "source": "def feet_to_meters(feet):\n    meters = feet / 0.3048\n    return round(meters, 2)\ndef meters_to_feet(meters):\n    feet = meters * 0.3048\n    return round(feet, 2)\ndef display_title():\n    print('Feet and Meters Converter')\ndef display_menu():\n    print(\"Conversions Menu:\")\n    print(\"a. Feet to Meters\")\n    print(\"b. Meters to Feet\")\ndef main():\n    while True\n        display_title()\n        display_menu()\n        choice = input(\"Conversions Menu:\\na.\\tFeet to Meters\\nb.\\tMeters to Feet\\n\")\n        if choice == 'a':\n            feet = float(input(\"Enter feet: \"))\n            result = feet_to_meters(feet)\n            print(f\"{feet} feet is {result} meters.\")\n        elif choice == 'b':\n            meters = float(input(\"Enter meters: \"))\n            result = meters_to_feet(meters)\n            print(f\"{meters} meters is {result} feet.\")\n    another_conversion = input(\"Would you like to perform another conversion? (y/n): \")\n        if another_conversion != 'y':\n            break\nif __name__ == \"__main__\":\n    main()",
      "metadata": {},
      "outputs": [],
      "execution_count": 2
    },
    {
      "cell_type": "code",
      "source": "import converter\nconvert.main()",
      "metadata": {
        "trusted": true
      },
      "outputs": [
        {
          "ename": "<class 'NameError'>",
          "evalue": "name 'true' is not defined",
          "traceback": [
            "\u001b[0;31m---------------------------------------------------------------------------\u001b[0m",
            "\u001b[0;31mNameError\u001b[0m                                 Traceback (most recent call last)",
            "Cell \u001b[0;32mIn[3], line 1\u001b[0m\n\u001b[0;32m----> 1\u001b[0m \u001b[38;5;28;01mimport\u001b[39;00m \u001b[38;5;21;01mconverter\u001b[39;00m\n\u001b[1;32m      2\u001b[0m convert\u001b[38;5;241m.\u001b[39mmain()\n",
            "File \u001b[0;32m/drive/converter.py:1\u001b[0m\n\u001b[0;32m----> 1\u001b[0m {\u001b[38;5;124m\"\u001b[39m\u001b[38;5;124mmetadata\u001b[39m\u001b[38;5;124m\"\u001b[39m:{\u001b[38;5;124m\"\u001b[39m\u001b[38;5;124mkernelspec\u001b[39m\u001b[38;5;124m\"\u001b[39m:{\u001b[38;5;124m\"\u001b[39m\u001b[38;5;124mname\u001b[39m\u001b[38;5;124m\"\u001b[39m:\u001b[38;5;124m\"\u001b[39m\u001b[38;5;124mpython\u001b[39m\u001b[38;5;124m\"\u001b[39m,\u001b[38;5;124m\"\u001b[39m\u001b[38;5;124mdisplay_name\u001b[39m\u001b[38;5;124m\"\u001b[39m:\u001b[38;5;124m\"\u001b[39m\u001b[38;5;124mPython (Pyodide)\u001b[39m\u001b[38;5;124m\"\u001b[39m,\u001b[38;5;124m\"\u001b[39m\u001b[38;5;124mlanguage\u001b[39m\u001b[38;5;124m\"\u001b[39m:\u001b[38;5;124m\"\u001b[39m\u001b[38;5;124mpython\u001b[39m\u001b[38;5;124m\"\u001b[39m},\u001b[38;5;124m\"\u001b[39m\u001b[38;5;124mlanguage_info\u001b[39m\u001b[38;5;124m\"\u001b[39m:{\u001b[38;5;124m\"\u001b[39m\u001b[38;5;124mcodemirror_mode\u001b[39m\u001b[38;5;124m\"\u001b[39m:{\u001b[38;5;124m\"\u001b[39m\u001b[38;5;124mname\u001b[39m\u001b[38;5;124m\"\u001b[39m:\u001b[38;5;124m\"\u001b[39m\u001b[38;5;124mpython\u001b[39m\u001b[38;5;124m\"\u001b[39m,\u001b[38;5;124m\"\u001b[39m\u001b[38;5;124mversion\u001b[39m\u001b[38;5;124m\"\u001b[39m:\u001b[38;5;241m3\u001b[39m},\u001b[38;5;124m\"\u001b[39m\u001b[38;5;124mfile_extension\u001b[39m\u001b[38;5;124m\"\u001b[39m:\u001b[38;5;124m\"\u001b[39m\u001b[38;5;124m.py\u001b[39m\u001b[38;5;124m\"\u001b[39m,\u001b[38;5;124m\"\u001b[39m\u001b[38;5;124mmimetype\u001b[39m\u001b[38;5;124m\"\u001b[39m:\u001b[38;5;124m\"\u001b[39m\u001b[38;5;124mtext/x-python\u001b[39m\u001b[38;5;124m\"\u001b[39m,\u001b[38;5;124m\"\u001b[39m\u001b[38;5;124mname\u001b[39m\u001b[38;5;124m\"\u001b[39m:\u001b[38;5;124m\"\u001b[39m\u001b[38;5;124mpython\u001b[39m\u001b[38;5;124m\"\u001b[39m,\u001b[38;5;124m\"\u001b[39m\u001b[38;5;124mnbconvert_exporter\u001b[39m\u001b[38;5;124m\"\u001b[39m:\u001b[38;5;124m\"\u001b[39m\u001b[38;5;124mpython\u001b[39m\u001b[38;5;124m\"\u001b[39m,\u001b[38;5;124m\"\u001b[39m\u001b[38;5;124mpygments_lexer\u001b[39m\u001b[38;5;124m\"\u001b[39m:\u001b[38;5;124m\"\u001b[39m\u001b[38;5;124mipython3\u001b[39m\u001b[38;5;124m\"\u001b[39m,\u001b[38;5;124m\"\u001b[39m\u001b[38;5;124mversion\u001b[39m\u001b[38;5;124m\"\u001b[39m:\u001b[38;5;124m\"\u001b[39m\u001b[38;5;124m3.8\u001b[39m\u001b[38;5;124m\"\u001b[39m}},\u001b[38;5;124m\"\u001b[39m\u001b[38;5;124mnbformat_minor\u001b[39m\u001b[38;5;124m\"\u001b[39m:\u001b[38;5;241m4\u001b[39m,\u001b[38;5;124m\"\u001b[39m\u001b[38;5;124mnbformat\u001b[39m\u001b[38;5;124m\"\u001b[39m:\u001b[38;5;241m4\u001b[39m,\u001b[38;5;124m\"\u001b[39m\u001b[38;5;124mcells\u001b[39m\u001b[38;5;124m\"\u001b[39m:[{\u001b[38;5;124m\"\u001b[39m\u001b[38;5;124mcell_type\u001b[39m\u001b[38;5;124m\"\u001b[39m:\u001b[38;5;124m\"\u001b[39m\u001b[38;5;124mcode\u001b[39m\u001b[38;5;124m\"\u001b[39m,\u001b[38;5;124m\"\u001b[39m\u001b[38;5;124msource\u001b[39m\u001b[38;5;124m\"\u001b[39m:\u001b[38;5;124m\"\u001b[39m\u001b[38;5;124mdef feet_to_meters(feet):\u001b[39m\u001b[38;5;130;01m\\n\u001b[39;00m\u001b[38;5;124m    meters = feet / 0.3048\u001b[39m\u001b[38;5;130;01m\\n\u001b[39;00m\u001b[38;5;124m    return round(meters, 2)\u001b[39m\u001b[38;5;130;01m\\n\u001b[39;00m\u001b[38;5;130;01m\\n\u001b[39;00m\u001b[38;5;124mdef meters_to_feet(meters):\u001b[39m\u001b[38;5;130;01m\\n\u001b[39;00m\u001b[38;5;124m    feet = meters * 0.3048\u001b[39m\u001b[38;5;130;01m\\n\u001b[39;00m\u001b[38;5;124m    return round(feet, 2)\u001b[39m\u001b[38;5;130;01m\\n\u001b[39;00m\u001b[38;5;130;01m\\n\u001b[39;00m\u001b[38;5;124mdef display_title():\u001b[39m\u001b[38;5;130;01m\\n\u001b[39;00m\u001b[38;5;124m    print(\u001b[39m\u001b[38;5;124m'\u001b[39m\u001b[38;5;124mFeet and Meters Converter\u001b[39m\u001b[38;5;124m'\u001b[39m\u001b[38;5;124m)\u001b[39m\u001b[38;5;130;01m\\n\u001b[39;00m\u001b[38;5;130;01m\\n\u001b[39;00m\u001b[38;5;124mdef display_menu():\u001b[39m\u001b[38;5;130;01m\\n\u001b[39;00m\u001b[38;5;124m    print(\u001b[39m\u001b[38;5;130;01m\\\"\u001b[39;00m\u001b[38;5;124mConversions Menu:\u001b[39m\u001b[38;5;130;01m\\\"\u001b[39;00m\u001b[38;5;124m)\u001b[39m\u001b[38;5;130;01m\\n\u001b[39;00m\u001b[38;5;124m    print(\u001b[39m\u001b[38;5;130;01m\\\"\u001b[39;00m\u001b[38;5;124ma. Feet to Meters\u001b[39m\u001b[38;5;130;01m\\\"\u001b[39;00m\u001b[38;5;124m)\u001b[39m\u001b[38;5;130;01m\\n\u001b[39;00m\u001b[38;5;124m    print(\u001b[39m\u001b[38;5;130;01m\\\"\u001b[39;00m\u001b[38;5;124mb. Meters to Feet\u001b[39m\u001b[38;5;130;01m\\\"\u001b[39;00m\u001b[38;5;124m)\u001b[39m\u001b[38;5;130;01m\\n\u001b[39;00m\u001b[38;5;130;01m\\n\u001b[39;00m\u001b[38;5;124mdef main():\u001b[39m\u001b[38;5;130;01m\\n\u001b[39;00m\u001b[38;5;124m    display_title()\u001b[39m\u001b[38;5;130;01m\\n\u001b[39;00m\u001b[38;5;124m    display_menu()\u001b[39m\u001b[38;5;130;01m\\n\u001b[39;00m\u001b[38;5;124m    choice = input(\u001b[39m\u001b[38;5;130;01m\\\"\u001b[39;00m\u001b[38;5;124mEnter your choice (a/b): \u001b[39m\u001b[38;5;130;01m\\\"\u001b[39;00m\u001b[38;5;124m)\u001b[39m\u001b[38;5;130;01m\\n\u001b[39;00m\u001b[38;5;124m    \u001b[39m\u001b[38;5;130;01m\\n\u001b[39;00m\u001b[38;5;124m    if choice == \u001b[39m\u001b[38;5;124m'\u001b[39m\u001b[38;5;124ma\u001b[39m\u001b[38;5;124m'\u001b[39m\u001b[38;5;124m:\u001b[39m\u001b[38;5;130;01m\\n\u001b[39;00m\u001b[38;5;124m        feet = float(input(\u001b[39m\u001b[38;5;130;01m\\\"\u001b[39;00m\u001b[38;5;124mEnter feet: \u001b[39m\u001b[38;5;130;01m\\\"\u001b[39;00m\u001b[38;5;124m))\u001b[39m\u001b[38;5;130;01m\\n\u001b[39;00m\u001b[38;5;124m        result = feet_to_meters(feet)\u001b[39m\u001b[38;5;130;01m\\n\u001b[39;00m\u001b[38;5;124m        print(f\u001b[39m\u001b[38;5;130;01m\\\"\u001b[39;00m\u001b[38;5;132;01m{feet}\u001b[39;00m\u001b[38;5;124m feet is \u001b[39m\u001b[38;5;132;01m{result}\u001b[39;00m\u001b[38;5;124m meters.\u001b[39m\u001b[38;5;130;01m\\\"\u001b[39;00m\u001b[38;5;124m)\u001b[39m\u001b[38;5;130;01m\\n\u001b[39;00m\u001b[38;5;124m    elif choice == \u001b[39m\u001b[38;5;124m'\u001b[39m\u001b[38;5;124mb\u001b[39m\u001b[38;5;124m'\u001b[39m\u001b[38;5;124m:\u001b[39m\u001b[38;5;130;01m\\n\u001b[39;00m\u001b[38;5;124m        meters = float(input(\u001b[39m\u001b[38;5;130;01m\\\"\u001b[39;00m\u001b[38;5;124mEnter meters: \u001b[39m\u001b[38;5;130;01m\\\"\u001b[39;00m\u001b[38;5;124m))\u001b[39m\u001b[38;5;130;01m\\n\u001b[39;00m\u001b[38;5;124m        result = meters_to_feet(meters)\u001b[39m\u001b[38;5;130;01m\\n\u001b[39;00m\u001b[38;5;124m        print(f\u001b[39m\u001b[38;5;130;01m\\\"\u001b[39;00m\u001b[38;5;132;01m{meters}\u001b[39;00m\u001b[38;5;124m meters is \u001b[39m\u001b[38;5;132;01m{result}\u001b[39;00m\u001b[38;5;124m feet.\u001b[39m\u001b[38;5;130;01m\\\"\u001b[39;00m\u001b[38;5;124m)\u001b[39m\u001b[38;5;130;01m\\n\u001b[39;00m\u001b[38;5;124m    else:\u001b[39m\u001b[38;5;130;01m\\n\u001b[39;00m\u001b[38;5;124m        print(\u001b[39m\u001b[38;5;130;01m\\\"\u001b[39;00m\u001b[38;5;124mInvalid choice. Please choose \u001b[39m\u001b[38;5;124m'\u001b[39m\u001b[38;5;124ma\u001b[39m\u001b[38;5;124m'\u001b[39m\u001b[38;5;124m or \u001b[39m\u001b[38;5;124m'\u001b[39m\u001b[38;5;124mb\u001b[39m\u001b[38;5;124m'\u001b[39m\u001b[38;5;124m.\u001b[39m\u001b[38;5;130;01m\\\"\u001b[39;00m\u001b[38;5;124m)\u001b[39m\u001b[38;5;130;01m\\n\u001b[39;00m\u001b[38;5;130;01m\\n\u001b[39;00m\u001b[38;5;124mif __name__ == \u001b[39m\u001b[38;5;130;01m\\\"\u001b[39;00m\u001b[38;5;124m__main__\u001b[39m\u001b[38;5;130;01m\\\"\u001b[39;00m\u001b[38;5;124m:\u001b[39m\u001b[38;5;130;01m\\n\u001b[39;00m\u001b[38;5;124m    main()\u001b[39m\u001b[38;5;124m\"\u001b[39m,\u001b[38;5;124m\"\u001b[39m\u001b[38;5;124mmetadata\u001b[39m\u001b[38;5;124m\"\u001b[39m:{\u001b[38;5;124m\"\u001b[39m\u001b[38;5;124mtrusted\u001b[39m\u001b[38;5;124m\"\u001b[39m:\u001b[43mtrue\u001b[49m},\u001b[38;5;124m\"\u001b[39m\u001b[38;5;124moutputs\u001b[39m\u001b[38;5;124m\"\u001b[39m:[],\u001b[38;5;124m\"\u001b[39m\u001b[38;5;124mexecution_count\u001b[39m\u001b[38;5;124m\"\u001b[39m:null}]}\n",
            "\u001b[0;31mNameError\u001b[0m: name 'true' is not defined"
          ],
          "output_type": "error"
        }
      ],
      "execution_count": 3
    },
    {
      "cell_type": "markdown",
      "source": "## 4.3 - Sales Tax Calculator\nCreate a program that uses a separate module to calculate sales tax and total after tax.\n\n### Console\n```powershell\nSales Tax Calculator\n\nENTER ITEMS (ENTER 0 TO END)\nCost of item: 35.99 \nCost of item: 27.50 \nCost of item: 19.59 \nCost of item: 0 \nTotal:  83.08\nSales tax:\t4.98\nTotal after tax: 88.06 \n\nAgain? (y/n): y\n\nENTER ITEMS (ENTER 0 TO END)\nCost of item: 152.50 \nCost of item: 59.80 \nCost of item: 0\nTotal:  212.3\nSales tax:\t12.74\nTotal after tax: 225.04 \n\nAgain? (y/n): n\n\nThanks, bye!\n\n```\n\n### Specifications\n- The sales tax rate should be 6% of the total.\n- Store the sales tax rate in a module. This module should also contain functions that calculate the sales tax and the total after tax. These functions should round the results to a maximum of two decimal places. Upload the seperate sales tax module to your GitHub repo when submitting.\n- Store the code that gets input and displays output in this notebook. Divide this code into functions wherever you think it would make that code easier to read and maintain.\n- Assume the user will enter valid data.\n\n",
      "metadata": {}
    },
    {
      "cell_type": "code",
      "source": "TAX_RATE = 0.06\ndef calculate_tax(total):\n    tax = total * TAX_RATE\n    return round(tax, 2)\ndef calculate_total_after_tax(total):\n    tax = calculate_tax(total)\n    total_after_tax = total + tax\n    return round(total_after_tax, 2)",
      "metadata": {
        "trusted": true
      },
      "outputs": [],
      "execution_count": null
    },
    {
      "cell_type": "code",
      "source": "import sales_tax\ndef get_items_cost():\n    items_cost = []\n    while True:\n        cost = float(input(\"Cost of item: \"))\n        if cost == 0:\n            break\n        items_cost.append(cost)\n    return sum(items_cost)\ndef display_results(total):\n    tax = sales_tax.calculate_tax(total)\n    total_after_tax = sales_tax.calculate_total_after_tax(total)\n    print(f\"Total: {round(total,2)}\")\n    print(f\"Sales tax: {round(tax,2)}\")\n    print(f\"Total after tax: {round(total_after_tax,2)}\")\ndef main():\n    print(\"Sales Tax Calculator\")\n    while True:\n        total = get_items_cost()\n        display_results(total)\n        choice = input(\"Again? (y/n): \")\n        if choice != 'y':\n            break\nif __name__ == \"__main__\":\n    main()",
      "metadata": {
        "trusted": true
      },
      "outputs": [],
      "execution_count": null
    },
    {
      "cell_type": "markdown",
      "source": "## 4.4 - Prime Number Checker\nCreate a program that checks whether a number is a prime number and displays the total number of factors if it is not a prime number.\n\n### Console\n```powershell\nPrime Number Checker\n\nPlease enter an integer between 1 and 5000: 1 \nInvalid integer. Please try again.\nPlease enter an integer between 1 and 5000: 2\n2 is a prime number. \n\nTry again? (y/n): y\n\nPlease enter an integer between 1 and 5000: 3\n3 is a prime number.\n\nTry again? (y/n): y\n\nPlease enter an integer between 1 and 5000: 4\n4 is NOT a prime number.\nIt has 3 factors.\n\nTry again? (y/n): y\n\nPlease enter an integer between 1 and 5000: 6\n6 is NOT a prime number.\nIt has 4 factors.\n\nTry again? (y/n): n\n\nBye!\n```\n\n### Specifications\n- A prime number is only divisible by two factors (1 and itself). For example, 7 is a prime number because it is only divisible by 1 and 7.\n- If the number is not a prime number, the program should display its number of factors. For example, 6 has four factors (1, 2, 3, and 6).\n- Store the code that gets a valid integer for this program in its own function.\n- Store the code that calculates the number of factors for a number in its own function.\n- Store the rest of the code that gets input and displays output in the main function.\n\n",
      "metadata": {}
    },
    {
      "cell_type": "code",
      "source": "def get_valid_integer():\n    while True:\n        input_value = input(\"Please enter an integer between 1 and 5000: \")\n        if input_value.isdigit():\n            number = int(input_value)\n            if 1 <= number <= 5000:\n                return number\n            else:\n                print(\"Invalid integer. Please try again.\")\n        else:\n            print(\"Invalid input. Please enter an integer.\")\ndef calculate_factors(number):\n    factors = 0\n    for i in range(1, number + 1):\n        if number % i == 0:\n            factors += 1\n    return factors\ndef main():\n    print(\"Prime Number Checker\")\n    while True:\n        number = get_valid_integer()\n        prime = True\n        for i in range(2, number):\n            if number % i == 0:\n                prime = False\n                break\n        if prime:\n            print(f\"{number} is a prime number.\")\n        else:\n            factors = calculate_factors(number)\n            print(f\"{number} is NOT a prime number.\")\n            print(f\"It has {factors} factors.\")\n        choice = input(\"Try again? (y/n): \")\n        if choice != 'y':\n            break\nif __name__ == \"__main__\":\n    main()",
      "metadata": {},
      "outputs": [],
      "execution_count": null
    }
  ]
}