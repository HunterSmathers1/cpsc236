{
  "metadata": {
    "kernelspec": {
      "name": "python",
      "display_name": "Python (Pyodide)",
      "language": "python"
    },
    "language_info": {
      "codemirror_mode": {
        "name": "python",
        "version": 3
      },
      "file_extension": ".py",
      "mimetype": "text/x-python",
      "name": "python",
      "nbconvert_exporter": "python",
      "pygments_lexer": "ipython3",
      "version": "3.8"
    }
  },
  "nbformat_minor": 4,
  "nbformat": 4,
  "cells": [
    {
      "cell_type": "markdown",
      "source": "# List and Tuples\n\nTo submit this assignment in D2l, post the link to your notebook file on your GitHub account.",
      "metadata": {}
    },
    {
      "cell_type": "markdown",
      "source": "## 6.1 Prime Number Checker\nCreate a program that checks whether a number is a prime number and displays its factors if it is not a prime number.\n\n### Console:\n```powershell\nPrime Number Checker\n\nPlease enter an integer between 1 and 5000: 5\n5 is a prime number.\n\nTry again? (y/n): y\n\nPlease enter an integer between 1 and 5000: 6\n6 is NOT a prime number.\nIt has 4 factors: 1 2 3 6\n\nTry again? (y/n): y\n\nPlease enter an integer between 1 and 5000: 200\n200 is NOT a prime number.\nIt has 12 factors: 1 2 4 5 8 10 20 25 40 50 100 200\n\nTry again? (y/n): n\n\nBye!\n```\n\n### Specifications:\n- A prime number is divisible by two factors (1 and itself). For example, 7 is a prime number because it is only divisible by 1 and 7.\n- If the user enters an integer that's not between 1 and 5000, the program should display an error message.\n- If the number is a prime number, the program should display a message.\nIf the number is not a prime number, the program should display a message. Then, it should display the number of factors for the number and a list of those factors.\n- Store the factors for each number in a list.\n- Use functions to organize the code for this program.\n",
      "metadata": {}
    },
    {
      "cell_type": "code",
      "source": "def is_prime(num):\n    if num < 2:\n        return False\n    for i in range(2, int(num ** 0.5) + 1):\n        if num % i == 0:\n            return False\n    return True\n\ndef get_factors(num):\n    factors = []\n    for i in range(1, num + 1):\n        if num % i == 0:\n            factors.append(i)\n    return factors\n\ndef main():\n    print(\"Prime Number Checker\")\n    while True:\n        num = input(\"Please enter an integer between 1 and 5000: \")\n        num = int(num)\n        if num < 1 or num > 5000:\n            print(\"Number must be between 1 and 5000.\")\n            continue\n        if is_prime(num):\n            print(str(num) + \" is a prime number.\")\n        else:\n            print(str(num) + \" is NOT a prime number.\") \n            factors = get_factors(num)\n            print(\"It has \" + str(len(factors)) + \" factors: \")\n            print(factors)\n        choice = input(\"Try again? (y/n): \")\n        if choice.lower() != 'y':\n            print(\"Bye!\")\n            break\n\nif __name__ == \"__main__\":\n    main()",
      "metadata": {
        "trusted": true
      },
      "outputs": [],
      "execution_count": null
    },
    {
      "cell_type": "markdown",
      "source": "## 6.2 - Contact Manager\nCreate a program that a user can use to manage the primary email address and phone number for a contact.\n\n### Console\n```powershell\nContact Manager\n\nCOMMAND MENU\nlist - Display all contacts\nview - View a contact\nadd - Add a contact\ndel - Delete a contact\nexit - Exit program\n\nCommand: list\n1. Guido van Rossum\n2. Eric Idle\n\nCommand: view\nNumber: 2\nName: Eric Idle\nEmail: eric@ericidle.com\nPhone: +44 20 7946 0958\n\nCommand: add\nName: Mike Murach\nEmail: mike@murach.com\nPhone: 559-123-4567\nMike Murach was added.\n\nCommand: del\nNumber: 1\nGuido van Rossum was deleted.\n\nCommand: list\n1. Eric Idle\n2. Mike Murach\n\nCommand: exit\nBye!\n```\n\n### Specifications:\n- Use a list of lists to store the data for the contacts. Provide starting data for two or more contacts.\n- For the `view` and `del` commands, display an error message if the user enters and invalid contact number.\n- When you exit the program, all changes that you made to the contact list are lost.\n\n\n",
      "metadata": {}
    },
    {
      "cell_type": "code",
      "source": "def display_contacts(contacts):\n    print(\"COMMAND MENU\")\n    print(\"list - Display all contacts\")\n    print(\"view - View a contact\")\n    print(\"add - Add a contact\")\n    print(\"del - Delete a contact\")\n    print(\"exit - Exit program\")\n\ndef list_contacts(contacts):\n    print(\"Contacts:\")\n    for i, contact in enumerate(contacts, 1):\n        print(str(i) + \". \" + contact[0])\n\ndef view_contact(contacts, num):\n    if num < 1 or num > len(contacts):\n        print(\"Invalid contact number.\")\n    else:\n        contact = contacts[num - 1]\n        print(\"Name: \" + contact[0])\n        print(\"Email: \" + contact[1])\n        print(\"Phone: \" + contact[2])\n\ndef add_contact(contacts, name, email, phone):\n    contacts.append([name, email, phone])\n    print(name + \" was added.\")\n\ndef delete_contact(contacts, num):\n    if num < 1 or num > len(contacts):\n        print(\"Invalid contact number.\")\n    else:\n        deleted_contact = contacts.pop(num - 1)\n        print(deleted_contact[0] + \" was deleted.\")\n\ndef main():\n    contacts = [\n        [\"Guido van Rossum\", \"guido@python.org\", \"+1 650-543-4800\"],\n        [\"Eric Idle\", \"eric@ericidle.com\", \"+44 20 7946 0958\"]\n    ]\n    print(\"Contact Manager\")\n    display_contacts(contacts)\n    while True:\n        command = input(\"\\nCommand: \")\n        if command == \"list\":\n            list_contacts(contacts)\n        elif command == \"view\":\n            num = int(input(\"Number: \"))\n            view_contact(contacts, num)\n        elif command == \"add\":\n            name = input(\"Name: \")\n            email = input(\"Email: \")\n            phone = input(\"Phone: \")\n            add_contact(contacts, name, email, phone)\n        elif command == \"del\":\n            num = int(input(\"Number: \"))\n            delete_contact(contacts, num)\n        elif command == \"exit\":\n            print(\"Bye!\")\n            break\n        else:\n            print(\"Invalid command. Please try again.\")\n\nif __name__ == \"__main__\":\n    main()",
      "metadata": {
        "trusted": true
      },
      "outputs": [],
      "execution_count": null
    }
  ]
}