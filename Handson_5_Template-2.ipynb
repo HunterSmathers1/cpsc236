{
  "metadata": {
    "kernelspec": {
      "name": "python",
      "display_name": "Python (Pyodide)",
      "language": "python"
    },
    "language_info": {
      "codemirror_mode": {
        "name": "python",
        "version": 3
      },
      "file_extension": ".py",
      "mimetype": "text/x-python",
      "name": "python",
      "nbconvert_exporter": "python",
      "pygments_lexer": "ipython3",
      "version": "3.8"
    }
  },
  "nbformat_minor": 4,
  "nbformat": 4,
  "cells": [
    {
      "cell_type": "markdown",
      "source": "# File Input\n\nTo submit this assignment in D2l, post the link to your notebook file on your GitHub account.",
      "metadata": {}
    },
    {
      "cell_type": "markdown",
      "source": "## 7.1 Pig Dice Rules\nCreate a program that reads a list of rules from a file and displays them.\n\n### Console:\n```powershell\nPig Dice Rules:\n*\tSee how many turns it takes you to get to 20.\n*\tTurn ends when player rolls a 1 or chooses to hold.\n*\tIf you roll a 1, you lose all points earned during the turn.\n*\tIf you hold, you save all points earned during the turn.\n```\n\n### Specifications:\n- Use the attached text file named `pig_dice_rules.txt` in the corresponding Directory.\n- Your program should read the text file and display it on the console.\n",
      "metadata": {}
    },
    {
      "cell_type": "code",
      "source": "def display_rules(file_name):\n    with open(file_name, 'r') as file:\n        rules = file.read()\n        print(\"Pig Dice Rules:\")\n        print(rules)\n        \ndef main():\n    file_name = 'pig_dice_rules.txt'\n    display_rules(file_name)\n    \nif __name__ == \"__main__\":\n    main()",
      "metadata": {
        "trusted": true
      },
      "outputs": [
        {
          "ename": "<class 'FileNotFoundError'>",
          "evalue": "[Errno 44] No such file or directory: 'pig_dice_rules.txt'",
          "traceback": [
            "\u001b[0;31m---------------------------------------------------------------------------\u001b[0m",
            "\u001b[0;31mFileNotFoundError\u001b[0m                         Traceback (most recent call last)",
            "Cell \u001b[0;32mIn[1], line 10\u001b[0m\n\u001b[1;32m      8\u001b[0m     display_rules(file_name)\n\u001b[1;32m      9\u001b[0m \u001b[38;5;28;01mif\u001b[39;00m \u001b[38;5;18m__name__\u001b[39m \u001b[38;5;241m==\u001b[39m \u001b[38;5;124m\"\u001b[39m\u001b[38;5;124m__main__\u001b[39m\u001b[38;5;124m\"\u001b[39m:\n\u001b[0;32m---> 10\u001b[0m     \u001b[43mmain\u001b[49m\u001b[43m(\u001b[49m\u001b[43m)\u001b[49m\n",
            "Cell \u001b[0;32mIn[1], line 8\u001b[0m, in \u001b[0;36mmain\u001b[0;34m()\u001b[0m\n\u001b[1;32m      6\u001b[0m \u001b[38;5;28;01mdef\u001b[39;00m \u001b[38;5;21mmain\u001b[39m():\n\u001b[1;32m      7\u001b[0m     file_name \u001b[38;5;241m=\u001b[39m \u001b[38;5;124m'\u001b[39m\u001b[38;5;124mpig_dice_rules.txt\u001b[39m\u001b[38;5;124m'\u001b[39m\n\u001b[0;32m----> 8\u001b[0m     \u001b[43mdisplay_rules\u001b[49m\u001b[43m(\u001b[49m\u001b[43mfile_name\u001b[49m\u001b[43m)\u001b[49m\n",
            "Cell \u001b[0;32mIn[1], line 2\u001b[0m, in \u001b[0;36mdisplay_rules\u001b[0;34m(file_name)\u001b[0m\n\u001b[1;32m      1\u001b[0m \u001b[38;5;28;01mdef\u001b[39;00m \u001b[38;5;21mdisplay_rules\u001b[39m(file_name):\n\u001b[0;32m----> 2\u001b[0m     \u001b[38;5;28;01mwith\u001b[39;00m \u001b[38;5;28;43mopen\u001b[39;49m\u001b[43m(\u001b[49m\u001b[43mfile_name\u001b[49m\u001b[43m,\u001b[49m\u001b[43m \u001b[49m\u001b[38;5;124;43m'\u001b[39;49m\u001b[38;5;124;43mr\u001b[39;49m\u001b[38;5;124;43m'\u001b[39;49m\u001b[43m)\u001b[49m \u001b[38;5;28;01mas\u001b[39;00m file:\n\u001b[1;32m      3\u001b[0m         rules \u001b[38;5;241m=\u001b[39m file\u001b[38;5;241m.\u001b[39mread()\n\u001b[1;32m      4\u001b[0m         \u001b[38;5;28mprint\u001b[39m(\u001b[38;5;124m\"\u001b[39m\u001b[38;5;124mPig Dice Rules:\u001b[39m\u001b[38;5;124m\"\u001b[39m)\n",
            "File \u001b[0;32m/lib/python3.11/site-packages/IPython/core/interactiveshell.py:324\u001b[0m, in \u001b[0;36m_modified_open\u001b[0;34m(file, *args, **kwargs)\u001b[0m\n\u001b[1;32m    317\u001b[0m \u001b[38;5;28;01mif\u001b[39;00m file \u001b[38;5;129;01min\u001b[39;00m {\u001b[38;5;241m0\u001b[39m, \u001b[38;5;241m1\u001b[39m, \u001b[38;5;241m2\u001b[39m}:\n\u001b[1;32m    318\u001b[0m     \u001b[38;5;28;01mraise\u001b[39;00m \u001b[38;5;167;01mValueError\u001b[39;00m(\n\u001b[1;32m    319\u001b[0m         \u001b[38;5;124mf\u001b[39m\u001b[38;5;124m\"\u001b[39m\u001b[38;5;124mIPython won\u001b[39m\u001b[38;5;124m'\u001b[39m\u001b[38;5;124mt let you open fd=\u001b[39m\u001b[38;5;132;01m{\u001b[39;00mfile\u001b[38;5;132;01m}\u001b[39;00m\u001b[38;5;124m by default \u001b[39m\u001b[38;5;124m\"\u001b[39m\n\u001b[1;32m    320\u001b[0m         \u001b[38;5;124m\"\u001b[39m\u001b[38;5;124mas it is likely to crash IPython. If you know what you are doing, \u001b[39m\u001b[38;5;124m\"\u001b[39m\n\u001b[1;32m    321\u001b[0m         \u001b[38;5;124m\"\u001b[39m\u001b[38;5;124myou can use builtins\u001b[39m\u001b[38;5;124m'\u001b[39m\u001b[38;5;124m open.\u001b[39m\u001b[38;5;124m\"\u001b[39m\n\u001b[1;32m    322\u001b[0m     )\n\u001b[0;32m--> 324\u001b[0m \u001b[38;5;28;01mreturn\u001b[39;00m \u001b[43mio_open\u001b[49m\u001b[43m(\u001b[49m\u001b[43mfile\u001b[49m\u001b[43m,\u001b[49m\u001b[43m \u001b[49m\u001b[38;5;241;43m*\u001b[39;49m\u001b[43margs\u001b[49m\u001b[43m,\u001b[49m\u001b[43m \u001b[49m\u001b[38;5;241;43m*\u001b[39;49m\u001b[38;5;241;43m*\u001b[39;49m\u001b[43mkwargs\u001b[49m\u001b[43m)\u001b[49m\n",
            "\u001b[0;31mFileNotFoundError\u001b[0m: [Errno 44] No such file or directory: 'pig_dice_rules.txt'"
          ],
          "output_type": "error"
        }
      ],
      "execution_count": 1
    },
    {
      "cell_type": "markdown",
      "source": "## 7.2 Wizard Inventory\nCreate a program that keeps track of the items that a wizard can carry.\n\n### Console:\n```powershell\nThe Wizard Inventroy Program\n\nCOMMAND MENU\nwalk - Walk down the path \nshow - Show all items \ndrop - Drop an item\nexit - Exit program\n\nCommand: walk\nWhile walking down a path, you see a scroll of uncursing. \nDo you want to grab it? (y/n): y\nYou picked up a scroll of uncursing.\n\nCommand: walk\nWhile walking down a path, you see an unknown potion. \nDo you want to grab it? (y/n): y\nYou can't carry any more items. Drop something first.\n\nCommand: show\n1.\ta wooden staff\n2.\ta scroll of invisibility\n3.\ta crossbow\n4.\ta scroll of uncursing\n\nCommand: drop Number: 3\nYou dropped a crossbow.\n\nCommand: exit \nBye!\n```\n\n### Specifications:\n- Use the attached text file named `wizard_all_items.txt` that contains a list of all the items that a wizard can carry. (in the corresponding directory)\n- When the user selects the walk command, the program should read the items from the file, randomly pick one, and give the user the option to grab it.\n- Your program should create another file that stores the items that the wizard is carrying (`wizard_inventory.txt`). Make sure to update this file every time the user grabs or drops an item.\n- The wizard can only carry **four** items at a time.\n- For the drop command, display an error message if the user enters an invalid number for the item.\n\n",
      "metadata": {}
    },
    {
      "cell_type": "code",
      "source": "import random\n\ndef read_items_from_file(file_name):\n    with open(file_name, 'r') as file:\n        items = file.readlines()\n    return items\n\ndef show_inventory(inventory):\n    print(\"Inventory:\")\n    for index, item in enumerate(inventory, start=1):\n        print(f\"{index}. {item.strip()}\")\n\ndef grab_item(inventory, available_items):\n    if len(inventory) >= 4:\n        print(\"You can't carry any more items. Drop something first.\")\n        return\n    item = random.choice(available_items)\n    inventory.append(item.strip())\n    print(f\"You picked up {item.strip()}.\")\n\ndef drop_item(inventory, index):\n    if 1 <= index <= len(inventory):\n        dropped_item = inventory.pop(index - 1)\n        print(f\"You dropped {dropped_item}.\")\n    else:\n        print(\"Invalid item number.\")\n\ndef save_inventory(inventory, file_name):\n    with open(file_name, 'w') as file:\n        for item in inventory:\n            file.write(item + \"\\n\")\n\ndef main():\n    all_items_file = 'wizard_all_items.txt'\n    inventory_file = 'wizard_inventory.txt'\n\n    available_items = read_items_from_file(all_items_file)\n    inventory = read_items_from_file(inventory_file)\n\n    print(\"The Wizard Inventory Program\\n\")\n    print(\"COMMAND MENU\")\n    print(\"walk - Walk down the path\")\n    print(\"show - Show all items\")\n    print(\"drop - Drop an item\")\n    print(\"exit - Exit program\")\n\n    while True:\n        command = input(\"\\nCommand: \").lower()\n        \n        if command == \"walk\":\n            if len(inventory) >= 4:\n                print(\"You can't carry any more items. Drop something first.\")\n            else:\n                grab_item(inventory, available_items)\n        elif command == \"show\":\n            show_inventory(inventory)\n        elif command == \"drop\":\n            show_inventory(inventory)\n            item_to_drop = input(\"Number: \")\n            drop_item(inventory, int(item_to_drop))\n        elif command == \"exit\":\n            save_inventory(inventory, inventory_file)\n            print(\"Bye!\")\n            break\n        else:\n            print(\"Invalid command. Please try again.\")\n\nif __name__ == \"__main__\":\n    main()",
      "metadata": {
        "trusted": true
      },
      "outputs": [
        {
          "ename": "<class 'FileNotFoundError'>",
          "evalue": "[Errno 44] No such file or directory: 'wizard_all_items.txt'",
          "traceback": [
            "\u001b[0;31m---------------------------------------------------------------------------\u001b[0m",
            "\u001b[0;31mFileNotFoundError\u001b[0m                         Traceback (most recent call last)",
            "Cell \u001b[0;32mIn[2], line 69\u001b[0m\n\u001b[1;32m     66\u001b[0m             \u001b[38;5;28mprint\u001b[39m(\u001b[38;5;124m\"\u001b[39m\u001b[38;5;124mInvalid command. Please try again.\u001b[39m\u001b[38;5;124m\"\u001b[39m)\n\u001b[1;32m     68\u001b[0m \u001b[38;5;28;01mif\u001b[39;00m \u001b[38;5;18m__name__\u001b[39m \u001b[38;5;241m==\u001b[39m \u001b[38;5;124m\"\u001b[39m\u001b[38;5;124m__main__\u001b[39m\u001b[38;5;124m\"\u001b[39m:\n\u001b[0;32m---> 69\u001b[0m     \u001b[43mmain\u001b[49m\u001b[43m(\u001b[49m\u001b[43m)\u001b[49m\n",
            "Cell \u001b[0;32mIn[2], line 37\u001b[0m, in \u001b[0;36mmain\u001b[0;34m()\u001b[0m\n\u001b[1;32m     34\u001b[0m all_items_file \u001b[38;5;241m=\u001b[39m \u001b[38;5;124m'\u001b[39m\u001b[38;5;124mwizard_all_items.txt\u001b[39m\u001b[38;5;124m'\u001b[39m\n\u001b[1;32m     35\u001b[0m inventory_file \u001b[38;5;241m=\u001b[39m \u001b[38;5;124m'\u001b[39m\u001b[38;5;124mwizard_inventory.txt\u001b[39m\u001b[38;5;124m'\u001b[39m\n\u001b[0;32m---> 37\u001b[0m available_items \u001b[38;5;241m=\u001b[39m \u001b[43mread_items_from_file\u001b[49m\u001b[43m(\u001b[49m\u001b[43mall_items_file\u001b[49m\u001b[43m)\u001b[49m\n\u001b[1;32m     38\u001b[0m inventory \u001b[38;5;241m=\u001b[39m read_items_from_file(inventory_file)\n\u001b[1;32m     40\u001b[0m \u001b[38;5;28mprint\u001b[39m(\u001b[38;5;124m\"\u001b[39m\u001b[38;5;124mThe Wizard Inventory Program\u001b[39m\u001b[38;5;130;01m\\n\u001b[39;00m\u001b[38;5;124m\"\u001b[39m)\n",
            "Cell \u001b[0;32mIn[2], line 4\u001b[0m, in \u001b[0;36mread_items_from_file\u001b[0;34m(file_name)\u001b[0m\n\u001b[1;32m      3\u001b[0m \u001b[38;5;28;01mdef\u001b[39;00m \u001b[38;5;21mread_items_from_file\u001b[39m(file_name):\n\u001b[0;32m----> 4\u001b[0m     \u001b[38;5;28;01mwith\u001b[39;00m \u001b[38;5;28;43mopen\u001b[39;49m\u001b[43m(\u001b[49m\u001b[43mfile_name\u001b[49m\u001b[43m,\u001b[49m\u001b[43m \u001b[49m\u001b[38;5;124;43m'\u001b[39;49m\u001b[38;5;124;43mr\u001b[39;49m\u001b[38;5;124;43m'\u001b[39;49m\u001b[43m)\u001b[49m \u001b[38;5;28;01mas\u001b[39;00m file:\n\u001b[1;32m      5\u001b[0m         items \u001b[38;5;241m=\u001b[39m file\u001b[38;5;241m.\u001b[39mreadlines()\n\u001b[1;32m      6\u001b[0m     \u001b[38;5;28;01mreturn\u001b[39;00m items\n",
            "File \u001b[0;32m/lib/python3.11/site-packages/IPython/core/interactiveshell.py:324\u001b[0m, in \u001b[0;36m_modified_open\u001b[0;34m(file, *args, **kwargs)\u001b[0m\n\u001b[1;32m    317\u001b[0m \u001b[38;5;28;01mif\u001b[39;00m file \u001b[38;5;129;01min\u001b[39;00m {\u001b[38;5;241m0\u001b[39m, \u001b[38;5;241m1\u001b[39m, \u001b[38;5;241m2\u001b[39m}:\n\u001b[1;32m    318\u001b[0m     \u001b[38;5;28;01mraise\u001b[39;00m \u001b[38;5;167;01mValueError\u001b[39;00m(\n\u001b[1;32m    319\u001b[0m         \u001b[38;5;124mf\u001b[39m\u001b[38;5;124m\"\u001b[39m\u001b[38;5;124mIPython won\u001b[39m\u001b[38;5;124m'\u001b[39m\u001b[38;5;124mt let you open fd=\u001b[39m\u001b[38;5;132;01m{\u001b[39;00mfile\u001b[38;5;132;01m}\u001b[39;00m\u001b[38;5;124m by default \u001b[39m\u001b[38;5;124m\"\u001b[39m\n\u001b[1;32m    320\u001b[0m         \u001b[38;5;124m\"\u001b[39m\u001b[38;5;124mas it is likely to crash IPython. If you know what you are doing, \u001b[39m\u001b[38;5;124m\"\u001b[39m\n\u001b[1;32m    321\u001b[0m         \u001b[38;5;124m\"\u001b[39m\u001b[38;5;124myou can use builtins\u001b[39m\u001b[38;5;124m'\u001b[39m\u001b[38;5;124m open.\u001b[39m\u001b[38;5;124m\"\u001b[39m\n\u001b[1;32m    322\u001b[0m     )\n\u001b[0;32m--> 324\u001b[0m \u001b[38;5;28;01mreturn\u001b[39;00m \u001b[43mio_open\u001b[49m\u001b[43m(\u001b[49m\u001b[43mfile\u001b[49m\u001b[43m,\u001b[49m\u001b[43m \u001b[49m\u001b[38;5;241;43m*\u001b[39;49m\u001b[43margs\u001b[49m\u001b[43m,\u001b[49m\u001b[43m \u001b[49m\u001b[38;5;241;43m*\u001b[39;49m\u001b[38;5;241;43m*\u001b[39;49m\u001b[43mkwargs\u001b[49m\u001b[43m)\u001b[49m\n",
            "\u001b[0;31mFileNotFoundError\u001b[0m: [Errno 44] No such file or directory: 'wizard_all_items.txt'"
          ],
          "output_type": "error"
        }
      ],
      "execution_count": 2
    },
    {
      "cell_type": "markdown",
      "source": "## 7.3 Monthly Sales\nCreate a program that reads the sales for 12 months from a file and calculates the total yearly sales as well as the average monthly sales. In addition, this program should let the user edit the sales for any month.\n\n### Console:\n```powershell\nMonthly Sales program\n\nCOMMAND MENU\nmonthly - View monthly sales \nyearly\t- View yearly sumary \nedit\t- Edit sales for a month \nexit\t- Exit program\n\nCommand: monthly \nJan - 14317\nFeb - 3903\nMar - 1073\nApr - 3463\nMay - 2429\nJun - 4324\nJul - 9762\nAug - 15578\nSep - 2437\nOct - 6735\nNov - 88\nDec - 2497\n\nCommand: yearly\nYearly total:\t66606\nMonthly average:\t5550.5\n\nCommand: edit\nThree-letter Month: Nov Sales Amount: 8854\nSales amount for Nov was modified.\n\nCommand: exit Bye!\n```\n\n### Specifications:\n- Use the attached text file named CSV file named `monthly_sales.csv` that contains the month and sales data shown above.\n- For the edit command, display an error message if the user doesn’t enter a valid three-letter abbreviation for the month.\n- When the user edits the sales amount for a month, the data should be saved to the CSV file immediately. That way, no data is lost, even if the program crashes later.\n- Round the results of the monthly average to a maximum of 2 decimal digits.",
      "metadata": {}
    },
    {
      "cell_type": "code",
      "source": "import csv\n\ndef read_sales_from_file(file_name):\n    sales = {}\n    with open(file_name, 'r') as file:\n        reader = csv.reader(file, delimiter='\\t')\n        for row in reader:\n            month, amount = row\n            sales[month] = int(amount)\n    return sales\n\ndef write_sales_to_file(sales, file_name):\n    with open(file_name, 'w', newline='') as file:\n        writer = csv.writer(file, delimiter='\\t')\n        for month, amount in sales.items():\n            writer.writerow([month, amount])\n\ndef calculate_yearly_total(sales):\n    return sum(sales.values())\n\ndef calculate_monthly_average(sales):\n    return round(sum(sales.values()) / len(sales), 2)\n\ndef main():\n    file_name = 'monthly_sales.csv'\n    sales = read_sales_from_file(file_name)\n    print(\"monthly\")\n    print(\"yearly\")\n    print(\"edit\")\n    print(\"exit - Exit program\")\n    while True:\n        command = input(\"\\nCommand: \").lower()\n        if command == \"monthly\":\n            for month, amount in sales.items():\n                print(f\"{month} - {amount}\")\n        elif command == \"yearly\":\n            yearly_total = calculate_yearly_total(sales)\n            monthly_average = calculate_monthly_average(sales)\n            print(f\"Yearly total:\\t{yearly_total}\")\n            print(f\"Monthly average:\\t{monthly_average}\")\n        elif command == \"edit\":\n            month = input(\"Three-letter Month: \").capitalize()\n            if month not in sales:\n                print(\"Invalid month abbreviation.\")\n                continue\n            new_amount = input(\"Sales Amount: \")\n            sales[month] = int(new_amount)\n            write_sales_to_file(sales, file_name)\n            print(f\"Sales amount for {month} was modified.\")\n        elif command == \"exit\":\n            break\n        else:\n            print(\"Invalid command. Please try again.\")\n\nif __name__ == \"__main__\":\n    main()",
      "metadata": {
        "trusted": true
      },
      "outputs": [
        {
          "ename": "<class 'FileNotFoundError'>",
          "evalue": "[Errno 44] No such file or directory: 'monthly_sales.csv'",
          "traceback": [
            "\u001b[0;31m---------------------------------------------------------------------------\u001b[0m",
            "\u001b[0;31mFileNotFoundError\u001b[0m                         Traceback (most recent call last)",
            "Cell \u001b[0;32mIn[3], line 62\u001b[0m\n\u001b[1;32m     59\u001b[0m             \u001b[38;5;28mprint\u001b[39m(\u001b[38;5;124m\"\u001b[39m\u001b[38;5;124mInvalid command. Please try again.\u001b[39m\u001b[38;5;124m\"\u001b[39m)\n\u001b[1;32m     61\u001b[0m \u001b[38;5;28;01mif\u001b[39;00m \u001b[38;5;18m__name__\u001b[39m \u001b[38;5;241m==\u001b[39m \u001b[38;5;124m\"\u001b[39m\u001b[38;5;124m__main__\u001b[39m\u001b[38;5;124m\"\u001b[39m:\n\u001b[0;32m---> 62\u001b[0m     \u001b[43mmain\u001b[49m\u001b[43m(\u001b[49m\u001b[43m)\u001b[49m\n",
            "Cell \u001b[0;32mIn[3], line 26\u001b[0m, in \u001b[0;36mmain\u001b[0;34m()\u001b[0m\n\u001b[1;32m     24\u001b[0m \u001b[38;5;28;01mdef\u001b[39;00m \u001b[38;5;21mmain\u001b[39m():\n\u001b[1;32m     25\u001b[0m     file_name \u001b[38;5;241m=\u001b[39m \u001b[38;5;124m'\u001b[39m\u001b[38;5;124mmonthly_sales.csv\u001b[39m\u001b[38;5;124m'\u001b[39m\n\u001b[0;32m---> 26\u001b[0m     sales \u001b[38;5;241m=\u001b[39m \u001b[43mread_sales_from_file\u001b[49m\u001b[43m(\u001b[49m\u001b[43mfile_name\u001b[49m\u001b[43m)\u001b[49m\n\u001b[1;32m     28\u001b[0m     \u001b[38;5;28mprint\u001b[39m(\u001b[38;5;124m\"\u001b[39m\u001b[38;5;124mMonthly Sales program\u001b[39m\u001b[38;5;130;01m\\n\u001b[39;00m\u001b[38;5;124m\"\u001b[39m)\n\u001b[1;32m     29\u001b[0m     \u001b[38;5;28mprint\u001b[39m(\u001b[38;5;124m\"\u001b[39m\u001b[38;5;124mCOMMAND MENU\u001b[39m\u001b[38;5;124m\"\u001b[39m)\n",
            "Cell \u001b[0;32mIn[3], line 5\u001b[0m, in \u001b[0;36mread_sales_from_file\u001b[0;34m(file_name)\u001b[0m\n\u001b[1;32m      3\u001b[0m \u001b[38;5;28;01mdef\u001b[39;00m \u001b[38;5;21mread_sales_from_file\u001b[39m(file_name):\n\u001b[1;32m      4\u001b[0m     sales \u001b[38;5;241m=\u001b[39m {}\n\u001b[0;32m----> 5\u001b[0m     \u001b[38;5;28;01mwith\u001b[39;00m \u001b[38;5;28;43mopen\u001b[39;49m\u001b[43m(\u001b[49m\u001b[43mfile_name\u001b[49m\u001b[43m,\u001b[49m\u001b[43m \u001b[49m\u001b[38;5;124;43m'\u001b[39;49m\u001b[38;5;124;43mr\u001b[39;49m\u001b[38;5;124;43m'\u001b[39;49m\u001b[43m)\u001b[49m \u001b[38;5;28;01mas\u001b[39;00m file:\n\u001b[1;32m      6\u001b[0m         reader \u001b[38;5;241m=\u001b[39m csv\u001b[38;5;241m.\u001b[39mreader(file, delimiter\u001b[38;5;241m=\u001b[39m\u001b[38;5;124m'\u001b[39m\u001b[38;5;130;01m\\t\u001b[39;00m\u001b[38;5;124m'\u001b[39m)\n\u001b[1;32m      7\u001b[0m         \u001b[38;5;28;01mfor\u001b[39;00m row \u001b[38;5;129;01min\u001b[39;00m reader:\n",
            "File \u001b[0;32m/lib/python3.11/site-packages/IPython/core/interactiveshell.py:324\u001b[0m, in \u001b[0;36m_modified_open\u001b[0;34m(file, *args, **kwargs)\u001b[0m\n\u001b[1;32m    317\u001b[0m \u001b[38;5;28;01mif\u001b[39;00m file \u001b[38;5;129;01min\u001b[39;00m {\u001b[38;5;241m0\u001b[39m, \u001b[38;5;241m1\u001b[39m, \u001b[38;5;241m2\u001b[39m}:\n\u001b[1;32m    318\u001b[0m     \u001b[38;5;28;01mraise\u001b[39;00m \u001b[38;5;167;01mValueError\u001b[39;00m(\n\u001b[1;32m    319\u001b[0m         \u001b[38;5;124mf\u001b[39m\u001b[38;5;124m\"\u001b[39m\u001b[38;5;124mIPython won\u001b[39m\u001b[38;5;124m'\u001b[39m\u001b[38;5;124mt let you open fd=\u001b[39m\u001b[38;5;132;01m{\u001b[39;00mfile\u001b[38;5;132;01m}\u001b[39;00m\u001b[38;5;124m by default \u001b[39m\u001b[38;5;124m\"\u001b[39m\n\u001b[1;32m    320\u001b[0m         \u001b[38;5;124m\"\u001b[39m\u001b[38;5;124mas it is likely to crash IPython. If you know what you are doing, \u001b[39m\u001b[38;5;124m\"\u001b[39m\n\u001b[1;32m    321\u001b[0m         \u001b[38;5;124m\"\u001b[39m\u001b[38;5;124myou can use builtins\u001b[39m\u001b[38;5;124m'\u001b[39m\u001b[38;5;124m open.\u001b[39m\u001b[38;5;124m\"\u001b[39m\n\u001b[1;32m    322\u001b[0m     )\n\u001b[0;32m--> 324\u001b[0m \u001b[38;5;28;01mreturn\u001b[39;00m \u001b[43mio_open\u001b[49m\u001b[43m(\u001b[49m\u001b[43mfile\u001b[49m\u001b[43m,\u001b[49m\u001b[43m \u001b[49m\u001b[38;5;241;43m*\u001b[39;49m\u001b[43margs\u001b[49m\u001b[43m,\u001b[49m\u001b[43m \u001b[49m\u001b[38;5;241;43m*\u001b[39;49m\u001b[38;5;241;43m*\u001b[39;49m\u001b[43mkwargs\u001b[49m\u001b[43m)\u001b[49m\n",
            "\u001b[0;31mFileNotFoundError\u001b[0m: [Errno 44] No such file or directory: 'monthly_sales.csv'"
          ],
          "output_type": "error"
        }
      ],
      "execution_count": 3
    }
  ]
}