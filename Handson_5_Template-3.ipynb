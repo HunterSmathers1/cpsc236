{
  "metadata": {
    "kernelspec": {
      "name": "python",
      "display_name": "Python (Pyodide)",
      "language": "python"
    },
    "language_info": {
      "codemirror_mode": {
        "name": "python",
        "version": 3
      },
      "file_extension": ".py",
      "mimetype": "text/x-python",
      "name": "python",
      "nbconvert_exporter": "python",
      "pygments_lexer": "ipython3",
      "version": "3.8"
    }
  },
  "nbformat_minor": 4,
  "nbformat": 4,
  "cells": [
    {
      "cell_type": "markdown",
      "source": "# File Input\n\nTo submit this assignment in D2l, post the link to your notebook file on your GitHub account.",
      "metadata": {}
    },
    {
      "cell_type": "markdown",
      "source": "## 7.1 Pig Dice Rules\nCreate a program that reads a list of rules from a file and displays them.\n\n### Console:\n```powershell\nPig Dice Rules:\n*\tSee how many turns it takes you to get to 20.\n*\tTurn ends when player rolls a 1 or chooses to hold.\n*\tIf you roll a 1, you lose all points earned during the turn.\n*\tIf you hold, you save all points earned during the turn.\n```\n\n### Specifications:\n- Use the attached text file named `pig_dice_rules.txt` in the corresponding Directory.\n- Your program should read the text file and display it on the console.\n",
      "metadata": {}
    },
    {
      "cell_type": "code",
      "source": "def display_rules(file_name):\n    with open(file_name, 'r') as file:\n        rules = file.read()\n        print(\"Pig Dice Rules:\")\n        print(rules)\n        \ndef main():\n    file_name = 'pig_dice_rules.txt'\n    display_rules(file_name)\n    \nif __name__ == \"__main__\":\n    main()",
      "metadata": {
        "trusted": true
      },
      "outputs": [],
      "execution_count": null
    },
    {
      "cell_type": "markdown",
      "source": "## 7.2 Wizard Inventory\nCreate a program that keeps track of the items that a wizard can carry.\n\n### Console:\n```powershell\nThe Wizard Inventroy Program\n\nCOMMAND MENU\nwalk - Walk down the path \nshow - Show all items \ndrop - Drop an item\nexit - Exit program\n\nCommand: walk\nWhile walking down a path, you see a scroll of uncursing. \nDo you want to grab it? (y/n): y\nYou picked up a scroll of uncursing.\n\nCommand: walk\nWhile walking down a path, you see an unknown potion. \nDo you want to grab it? (y/n): y\nYou can't carry any more items. Drop something first.\n\nCommand: show\n1.\ta wooden staff\n2.\ta scroll of invisibility\n3.\ta crossbow\n4.\ta scroll of uncursing\n\nCommand: drop Number: 3\nYou dropped a crossbow.\n\nCommand: exit \nBye!\n```\n\n### Specifications:\n- Use the attached text file named `wizard_all_items.txt` that contains a list of all the items that a wizard can carry. (in the corresponding directory)\n- When the user selects the walk command, the program should read the items from the file, randomly pick one, and give the user the option to grab it.\n- Your program should create another file that stores the items that the wizard is carrying (`wizard_inventory.txt`). Make sure to update this file every time the user grabs or drops an item.\n- The wizard can only carry **four** items at a time.\n- For the drop command, display an error message if the user enters an invalid number for the item.\n\n",
      "metadata": {}
    },
    {
      "cell_type": "code",
      "source": "import random\n\ndef read_items_from_file(file_name):\n    with open(file_name, 'r') as file:\n        items = file.readlines()\n    return items\n\ndef show_inventory(inventory):\n    print(\"Inventory:\")\n    for index, item in enumerate(inventory, start=1):\n        print(f\"{index}. {item.strip()}\")\n\ndef grab_item(inventory, available_items):\n    if len(inventory) >= 4:\n        print(\"You can't carry any more items. Drop something first.\")\n        return\n    item = random.choice(available_items)\n    inventory.append(item.strip())\n    print(f\"You picked up {item.strip()}.\")\n\ndef drop_item(inventory, index):\n    if 1 <= index <= len(inventory):\n        dropped_item = inventory.pop(index - 1)\n        print(f\"You dropped {dropped_item}.\")\n    else:\n        print(\"Invalid item number.\")\n\ndef save_inventory(inventory, file_name):\n    with open(file_name, 'w') as file:\n        for item in inventory:\n            file.write(item + \"\\n\")\n\ndef main():\n    all_items_file = 'wizard_all_items.txt'\n    inventory_file = 'wizard_inventory.txt'\n\n    available_items = read_items_from_file(all_items_file)\n    inventory = read_items_from_file(inventory_file)\n\n    print(\"The Wizard Inventory Program\\n\")\n    print(\"COMMAND MENU\")\n    print(\"walk - Walk down the path\")\n    print(\"show - Show all items\")\n    print(\"drop - Drop an item\")\n    print(\"exit - Exit program\")\n\n    while True:\n        command = input(\"\\nCommand: \").lower()\n        \n        if command == \"walk\":\n            if len(inventory) >= 4:\n                print(\"You can't carry any more items. Drop something first.\")\n            else:\n                grab_item(inventory, available_items)\n        elif command == \"show\":\n            show_inventory(inventory)\n        elif command == \"drop\":\n            show_inventory(inventory)\n            item_to_drop = input(\"Number: \")\n            drop_item(inventory, int(item_to_drop))\n        elif command == \"exit\":\n            save_inventory(inventory, inventory_file)\n            print(\"Bye!\")\n            break\n        else:\n            print(\"Invalid command. Please try again.\")\n\nif __name__ == \"__main__\":\n    main()",
      "metadata": {
        "trusted": true
      },
      "outputs": [],
      "execution_count": null
    },
    {
      "cell_type": "markdown",
      "source": "## 7.3 Monthly Sales\nCreate a program that reads the sales for 12 months from a file and calculates the total yearly sales as well as the average monthly sales. In addition, this program should let the user edit the sales for any month.\n\n### Console:\n```powershell\nMonthly Sales program\n\nCOMMAND MENU\nmonthly - View monthly sales \nyearly\t- View yearly sumary \nedit\t- Edit sales for a month \nexit\t- Exit program\n\nCommand: monthly \nJan - 14317\nFeb - 3903\nMar - 1073\nApr - 3463\nMay - 2429\nJun - 4324\nJul - 9762\nAug - 15578\nSep - 2437\nOct - 6735\nNov - 88\nDec - 2497\n\nCommand: yearly\nYearly total:\t66606\nMonthly average:\t5550.5\n\nCommand: edit\nThree-letter Month: Nov Sales Amount: 8854\nSales amount for Nov was modified.\n\nCommand: exit Bye!\n```\n\n### Specifications:\n- Use the attached text file named CSV file named `monthly_sales.csv` that contains the month and sales data shown above.\n- For the edit command, display an error message if the user doesn’t enter a valid three-letter abbreviation for the month.\n- When the user edits the sales amount for a month, the data should be saved to the CSV file immediately. That way, no data is lost, even if the program crashes later.\n- Round the results of the monthly average to a maximum of 2 decimal digits.",
      "metadata": {}
    },
    {
      "cell_type": "code",
      "source": "import csv\n\ndef read_sales_from_file(file_name):\n    sales = {}\n    with open(file_name, 'r') as file:\n        reader = csv.reader(file, delimiter='\\t')\n        for row in reader:\n            month, amount = row\n            sales[month] = int(amount)\n    return sales\n\ndef write_sales_to_file(sales, file_name):\n    with open(file_name, 'w', newline='') as file:\n        writer = csv.writer(file, delimiter='\\t')\n        for month, amount in sales.items():\n            writer.writerow([month, amount])\n\ndef calculate_yearly_total(sales):\n    return sum(sales.values())\n\ndef calculate_monthly_average(sales):\n    return round(sum(sales.values()) / len(sales), 2)\n\ndef main():\n    file_name = 'monthly_sales.csv'\n    sales = read_sales_from_file(file_name)\n    print(\"monthly\")\n    print(\"yearly\")\n    print(\"edit\")\n    print(\"exit - Exit program\")\n    while True:\n        command = input(\"\\nCommand: \").lower()\n        if command == \"monthly\":\n            for month, amount in sales.items():\n                print(f\"{month} - {amount}\")\n        elif command == \"yearly\":\n            yearly_total = calculate_yearly_total(sales)\n            monthly_average = calculate_monthly_average(sales)\n            print(f\"Yearly total:\\t{yearly_total}\")\n            print(f\"Monthly average:\\t{monthly_average}\")\n        elif command == \"edit\":\n            month = input(\"Three-letter Month: \").capitalize()\n            if month not in sales:\n                print(\"Invalid month abbreviation.\")\n                continue\n            new_amount = input(\"Sales Amount: \")\n            sales[month] = int(new_amount)\n            write_sales_to_file(sales, file_name)\n            print(f\"Sales amount for {month} was modified.\")\n        elif command == \"exit\":\n            break\n        else:\n            print(\"Invalid command. Please try again.\")\n\nif __name__ == \"__main__\":\n    main()",
      "metadata": {
        "trusted": true
      },
      "outputs": [],
      "execution_count": null
    }
  ]
}