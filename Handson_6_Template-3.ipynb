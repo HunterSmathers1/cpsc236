{
  "metadata": {
    "kernelspec": {
      "name": "python",
      "display_name": "Python (Pyodide)",
      "language": "python"
    },
    "language_info": {
      "codemirror_mode": {
        "name": "python",
        "version": 3
      },
      "file_extension": ".py",
      "mimetype": "text/x-python",
      "name": "python",
      "nbconvert_exporter": "python",
      "pygments_lexer": "ipython3",
      "version": "3.8"
    }
  },
  "nbformat_minor": 4,
  "nbformat": 4,
  "cells": [
    {
      "cell_type": "markdown",
      "source": "# Dictionaries\n\nTo submit this assignment in D2l, post the link to your notebook file on your GitHub account.",
      "metadata": {}
    },
    {
      "cell_type": "markdown",
      "source": "## 12.1 Champion Counter\nCreate a program that reads a text file that contains a list of FIFA World Cup champions and determines the country that has won the most championships.\n\n### Console:\n```powershell\nCountry\t        Wins\tYears\t\n=======\t        ====\t=====\t\nArgentina       2       1978, 1986\nBrazil\t        5       1958, 1962, 1970, 1994, 2002\nEngland\t        1       1966\t\t\nFrance\t        1       1998\t\t\nGermany\t        4       1954, 1974, 1990, 2014\nItaly\t        4       1934, 1938, 1982, 2006\nSpain\t        1       2010\nUruguay\t        2       1930, 1950\n```\n\n### Specifications:\n- Use the attached text file named `world_cup_champions.txt` that contains data like this: \n```powershell\nYear,Country,Coach,Captain \n1930,Uruguay,Alberto Suppici,José Nasazzi \n1934,Italy,Vittorio Pozzo,Gianpiero Combi \n1938,Italy,Vittorio Pozzo,Giuseppe Meazza\n...\n```\n- When the program starts, it should read the text file and use a dictionary to store the required data using the name of each country that has won the World Cup as the key.\n- The program should compile the data shown above and display the countries alphabetically.\n\n",
      "metadata": {}
    },
    {
      "cell_type": "code",
      "source": "def read_world_cup_data(filename):\n    world_cup_data = {}\n    with open(filename, 'r') as file:\n        next(file)\n        for line in file:\n            year, country, _, _ = line.strip().split(',')\n            if country in world_cup_data:\n                world_cup_data[country][0] += 1\n                world_cup_data[country][1].append(int(year))\n            else:\n                world_cup_data[country] = [1, [int(year)]]\n    return world_cup_data\n\ndef display_champion_data(world_cup_data):\n    print(\"Country\\t\\tWins\\tYears\")\n    print(\"=\"*30)\n    for country in sorted(world_cup_data.keys()):\n        wins, years = world_cup_data[country]\n        years.sort()\n        print(f\"{country.ljust(15)}\\t{wins}\\t{', '.join(map(str, years))}\")\n\ndef main():\n    filename = \"world_cup_champions.txt\"\n    world_cup_data = read_world_cup_data(filename)\n    display_champion_data(world_cup_data)\n\nif __name__ == \"__main__\":\n    main()",
      "metadata": {},
      "outputs": [],
      "execution_count": 1
    },
    {
      "cell_type": "markdown",
      "source": "## 12.2 Monthly Sales\nCreate a program that allows you to view and edit the sales amounts for each month of the current year.\n\n### Console:\n```powershell\nMonthly Sales program\n\nCOMMAND MENU\nview\t- View sales for specified month \nedit\t- Edit sales for specified month \ntotals - View sales summary for year \nexit\t- Exit program\n\nCommand: view\nThree-letter Month: jan\nSales amount for Jan is 14,317.00.\n\nCommand: edit\nThree-letter Month: jan \nSales Amount: 15293\nSales amount for Jan is 15,293.00.\n\nCommand: totals\nYearly total: 67,855.00\nMonthly average: 0\n\nCommand: view\nThree-letter Month: july \nInvalid three-letter month.\n\nCommand: exit Bye!\n```\n\n### Specifications:\n- Use the attached text file named `monthly_sales.txt` that consists of rows that contain three-letter abbreviations for the month and the monthly sales.\n- The program should read the file and store the sales data for each month in a dictionary with the month abbreviation as the key for each item.\n- Whenever the sales data is edited, the program should write the changed data to the text file.\n\n\n",
      "metadata": {}
    },
    {
      "cell_type": "code",
      "source": "def view(month, sales_data):\n    month = month.lower()\n    if month in sales_data:\n        print(f\"Sales amount for {month.capitalize()} is {sales_data[month]}.\")\n    else:\n        print(\"Invalid three-letter month.\")\n\ndef edit(month, sales_data):\n    month = month.lower()\n    if month in sales_data:\n        new_sales_amount = float(input(\"Sales Amount: \"))\n        sales_data[month] = new_sales_amount\n        with open(\"monthly_sales.txt\", \"w\") as file:\n            for month, sales in sales_data.items():\n                file.write(f\"{month} {sales}\\n\")\n        print(f\"Sales amount for {month.capitalize()} is {new_sales_amount}.\")\n    else:\n        print(\"Invalid three-letter month.\")\n\ndef totals(sales_data):\n    yearly_total = sum(sales_data.values())\n    monthly_average = yearly_total / len(sales_data)\n    print(f\"Yearly total: {yearly_total}\")\n    print(f\"Monthly average: {monthly_average}\")\n\ndef showOptions():\n    print(\"COMMAND MENU\")\n    print(\"view    - View sales for specified month\")\n    print(\"edit    - Edit sales for specified month\")\n    print(\"totals  - View sales summary for year\")\n    print(\"exit    - Exit program\")\n\ndef main():\n    sales_data = {}\n    with open(\"monthly_sales.txt\") as file:\n        for line in file:\n            month, sales = line.split()\n            sales_data[month.lower()] = float(sales)\n    \n    while True:\n        showOptions()\n        choice = input(\"Command: \").lower()\n        \n        if choice == \"view\":\n            month = input(\"Three-letter month: \").lower()\n            view(month, sales_data)\n        elif choice == \"edit\":\n            month = input(\"Three-letter month: \").lower()\n            edit(month, sales_data)\n        elif choice == \"totals\":\n            totals(sales_data)\n        elif choice == \"exit\":\n            break\n        else:\n            print(\"Invalid command. Please try again.\")\n\nif __name__==\"__main__\":\n    main()\n",
      "metadata": {
        "trusted": true
      },
      "outputs": [],
      "execution_count": null
    }
  ]
}