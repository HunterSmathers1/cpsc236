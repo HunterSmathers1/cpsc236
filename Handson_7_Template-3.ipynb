{
  "metadata": {
    "kernelspec": {
      "name": "python",
      "display_name": "Python (Pyodide)",
      "language": "python"
    },
    "language_info": {
      "codemirror_mode": {
        "name": "python",
        "version": 3
      },
      "file_extension": ".py",
      "mimetype": "text/x-python",
      "name": "python",
      "nbconvert_exporter": "python",
      "pygments_lexer": "ipython3",
      "version": "3.8"
    }
  },
  "nbformat_minor": 4,
  "nbformat": 4,
  "cells": [
    {
      "cell_type": "markdown",
      "source": "# Exceptions\n\nTo submit this assignment in D2l, post the link to your notebook file on your GitHub account.",
      "metadata": {}
    },
    {
      "cell_type": "markdown",
      "source": "## 8.1 Tip Calculator\nAdd exception handling to a Tip Calculator program.\n\n### Console:\n```powershell\nTip Calculator\n\nINPUT\nCost of meal: ten\nMust be valid decimal number. Please try again. \nCost of meal: -10\nMust be greater than 0. Please try again. \nCost of meal: 52.31\nTip percent:\t17.5\nMust be valid integer. Please try again. \nTip percent:\t20\n\nOUTPUT\nCost of meal:   52.31 \nTip percent:    20%\nTip amount:     10.46\nTotal amount:   62.77\n```\n\n### Specifications:\n- The program should accept **decimal** entries like 52.31 and 15.5 for the cost of the meal.\n- The program should accept **integer** entries like 15, 20, 25 for the tip percent.\n- The program should validate both user entries. That way, the user can’t crash the program by entering invalid data.\n- The program should only accept numbers that are **greater than 0**.\n- The program should round results to a maximum of two decimal places.\n",
      "metadata": {}
    },
    {
      "cell_type": "code",
      "source": "def get_cost_of_meal():\n    while True:\n        try:\n            cost = float(input(\"Cost of meal: \"))\n            if cost <= 0:\n                raise ValueError(\"Must be greater than 0\")\n            return cost\n        except ValueError as e:\n            print(\"Must be valid decimal number. Please try again.\")\n            print(e)\n\ndef get_tip_percent():\n    while True:\n        try:\n            percent = float(input(\"Tip percent: \"))\n            if percent <= 0 or percent >= 100:\n                raise ValueError(\"Must be between 0 and 100\")\n            return percent\n        except ValueError as e:\n            print(\"Must be valid integer. Please try again.\")\n            print(e)\n\ndef calculate_tip_amount(cost, percent):\n    return round(cost * percent / 100, 2)\n\ndef calculate_total_amount(cost, tip_amount):\n    return round(cost + tip_amount, 2)\n\ndef main():\n    print(\"Tip Calculator\\n\")\n    cost_of_meal = get_cost_of_meal()\n    tip_percent = get_tip_percent()\n    tip_amount = calculate_tip_amount(cost_of_meal, tip_percent)\n    total_amount = calculate_total_amount(cost_of_meal, tip_amount)\n    print(\"\\nOUTPUT\")\n    print(f\"Cost of meal:   {cost_of_meal:.2f}\")\n    print(f\"Tip percent:    {tip_percent:.0f}%\")\n    print(f\"Tip amount:     {tip_amount:.2f}\")\n    print(f\"Total amount:   {total_amount:.2f}\")\n\nif __name__ == \"__main__\":\n    main()",
      "metadata": {},
      "outputs": [],
      "execution_count": null
    },
    {
      "cell_type": "markdown",
      "source": "## 8.2 Wizard Inventory\n\nAdd exception handling to a program that keeps track of the inventory of items that a wizard can carry. If you still have Wizard Inventory from Handson_5, you can add the exception handling to that program. Otherwise, you can start this program from scratch.\n\n### Console if the program can't find the **inventory** file:\n```powershell\nThe Wizard Inventory program\n\nCOMMAND MENU\nwalk - Walk down the path \nshow - Show all items \ndrop - Drop an item\nexit - Exit program\n\nCould not find inventory file!\nWizard is starting with no inventory.\n\nCommand: walk\nWhile walking down a path, you see a crossbow.\nDo you want to grab it? (y/n): y\nYou picked up a crossbow.\n\nCommand: show\n1. a crossbow\n\nCommand: drop Number: x\nInvalid item number.\n```\n\n### The error message if the program can’t find the **items** file:\n```powershell\nCould not find items file.\t\nExiting program. Bye!\t\n```\n\n### Specifications:\n- This program should read the text file named `wizard_all_items.txt` that contains all the items a wizard can carry.\n- When the user selects the walk command, the program should randomly pick one of the items that were read from the text file and give the user the option to grab it.\n- The current items that the wizard is carrying should be saved in an inventory file. Make sure to update this file every time the user grabs or drops an item.\n- The wizard can only carry four items at a time. For the drop command, display an error message if the user enters an invalid integer or an integer that doesn’t correspond with an item.\n- Handle all exceptions that might occur so that the user can’t cause the program to crash. If the all items file is missing, display an appropriate error message and exit the program.\n- If the inventory file is missing, display an appropriate error message and continue with an empty inventory for the user. That way, the program will write a new inventory file when the user adds items to the inventory.",
      "metadata": {}
    },
    {
      "cell_type": "code",
      "source": "import random\nimport os\n\ndef read_items_from_file(file_name):\n    try:\n        with open(file_name, 'r') as file:\n            items = file.readlines()\n        return items\n    except FileNotFoundError:\n        print(f\"Could not find {file_name}!\")\n        exit()\n\ndef show_inventory(inventory):\n    print(\"Inventory:\")\n    for index, item in enumerate(inventory, start=1):\n        print(f\"{index}. {item.strip()}\")\n\ndef grab_item(inventory, available_items):\n    if len(inventory) >= 4:\n        print(\"You can't carry any more items. Drop something first.\")\n        return\n    item = random.choice(available_items)\n    inventory.append(item.strip())\n    print(f\"You picked up {item.strip()}.\")\n\ndef drop_item(inventory, index):\n    try:\n        index = int(index)\n        if 1 <= index <= len(inventory):\n            dropped_item = inventory.pop(index - 1)\n            print(f\"You dropped {dropped_item}.\")\n        else:\n            print(\"Invalid item number.\")\n    except ValueError:\n        print(\"Invalid item number.\")\n\ndef save_inventory(inventory, file_name):\n    with open(file_name, 'w') as file:\n        for item in inventory:\n            file.write(item + \"\\n\")\n\ndef main():\n    all_items_file = 'wizard_all_items.txt'\n    inventory_file = 'wizard_inventory.txt'\n    available_items = read_items_from_file(all_items_file)\n    try:\n        if os.path.exists(inventory_file):\n            inventory = read_items_from_file(inventory_file)\n        else:\n            print(f\"Could not find {inventory_file}!\")\n            print(\"Wizard is starting with no inventory.\")\n            inventory = []\n    except Exception as e:\n        print(f\"Error: {e}\")\n        print(\"Wizard is starting with no inventory.\")\n        inventory = []\n\n    print(\"The Wizard Inventory Program\\n\")\n    print(\"COMMAND MENU\")\n    print(\"walk - Walk down the path\")\n    print(\"show - Show all items\")\n    print(\"drop - Drop an item\")\n    print(\"exit - Exit program\")\n    while True:\n        command = input(\"\\nCommand: \").lower()\n        if command == \"walk\":\n            if len(inventory) >= 4:\n                print(\"You can't carry any more items. Drop something first.\")\n            else:\n                grab_item(inventory, available_items)\n        elif command == \"show\":\n            show_inventory(inventory)\n        elif command == \"drop\":\n            show_inventory(inventory)\n            item_to_drop = input(\"Number: \")\n            drop_item(inventory, item_to_drop)\n        elif command == \"exit\":\n            save_inventory(inventory, inventory_file)\n            print(\"Bye!\")\n            break\n        else:\n            print(\"Invalid command. Please try again.\")\n\nif __name__ == \"__main__\":\n    main()\n",
      "metadata": {},
      "outputs": [],
      "execution_count": null
    }
  ]
}