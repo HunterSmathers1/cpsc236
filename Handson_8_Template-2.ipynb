{
  "metadata": {
    "kernelspec": {
      "name": "python",
      "display_name": "Python (Pyodide)",
      "language": "python"
    },
    "language_info": {
      "codemirror_mode": {
        "name": "python",
        "version": 3
      },
      "file_extension": ".py",
      "mimetype": "text/x-python",
      "name": "python",
      "nbconvert_exporter": "python",
      "pygments_lexer": "ipython3",
      "version": "3.8"
    }
  },
  "nbformat_minor": 4,
  "nbformat": 4,
  "cells": [
    {
      "cell_type": "markdown",
      "source": "# Strings\n\nTo submit this assignment in D2l, post the link to your notebook file on your GitHub account.",
      "metadata": {}
    },
    {
      "cell_type": "markdown",
      "source": "## 10.1 Email Creator\nCreate a program that reads a file and creates a series of emails.\n\n### Console:\n```powershell\nEmail Creator\n\n================================================================\nTo: jbutler@gmail.com \nFrom: noreply@deals.com \nSubject: Deals!\n\nHi James,\n\nWe've got some great deals for you. Check our website!\n================================================================\nTo:\tjosephine_darakjy@darakjy.org \nFrom:\tnoreply@deals.com\nSubject: Deals! \n\nHi Josephine,\n\nWe've got some great deals for you. Check our website!\n================================================================\nTo:\tart@venere.org\nFrom:\tnoreply@deals.com \nSubject: Deals!\n\nHi Art,\n\nWe've got some great deals for you. Check our website!\n```\n\n### Specifications:\n- Use `email.csv` file:\n- Use `email_template.txt` file:\n- When the program starts, it should read the email addresses and first names from the file, merge them into the mass email template, and display the results on the console.\n- All email addresses should be converted to **lowercase**.\n- All first names should be converted to **title case**.\n- If you add names to the list of email addresses, the program should create more emails.\n- If you modify the template, the program should change the content of the email that’s created. \n\n",
      "metadata": {}
    },
    {
      "cell_type": "code",
      "source": "def read_csv(file_path):\n    data = []\n    with open(file_path, 'r') as file:\n        for line in file:\n            line = line.strip().split('\\t')\n            line[2] = line[2].lower()  # Convert email address to lowercase\n            data.append(line)\n    return data\n\ndef read_template(file_path):\n    with open(file_path, 'r') as file:\n        template = file.read()\n    return template\n\ndef create_email(template, recipient, sender):\n    subject = \"Deals!\"\n    first_name = recipient[0].title()  # Convert first name to title case\n    email = template.format(email=recipient[2], first_name=first_name, subject=subject)\n    return email\n\ndef main():\n    email_data = read_csv('email.csv')\n    email_template = read_template('email_template.txt')\n    for recipient in email_data:\n        email = create_email(email_template, recipient, sender=\"noreply@deals.com\")\n        print(email)\n        print(\"=\" * 70)\n\nif __name__ == \"__main__\":\n    print(\"Email Creator\\n\")\n    main()\n",
      "metadata": {},
      "outputs": [],
      "execution_count": null
    },
    {
      "cell_type": "markdown",
      "source": "## 10.2 Pig Latin Translator\n\nCreate a program that translates English to Pig Latin.\n\n### Console:\n```powershell\nPig Latin Translator\n\nEnter text: Tis but a scratch. \nEnglish:\ttis but a scratch\nPig Latin:\tistay utbay away atchscray \n\nContinue? (y/n): y\n\nEnter text: We are the knights who say nee!\nEnglish:\twe are the knights who say nee\nPig Latin:\teway areway ethay ightsknay owhay aysay eenay \n\nContinue? (y/n): n\n\nBye!\n```\n\n### Specifications:\n- Convert the English to lowercase before translating.\n- Remove the following punctuation characters before translating `! , ; : - . ?`\n- Assume that words are separated from each other by a single space.\n- If the word starts with a vowel, just add *way* to the end of the word.\n- If the word starts with a consonant, move all of the consonants that appear before the first vowel to the end of the word, then add *ay* to the end of the word.\n\n### Note:\n- There are no official rules for Pig Latin. Most people agree on how words that begin with consonants are translated, but there are many different ways to handle words that begin with vowels.\n",
      "metadata": {}
    },
    {
      "cell_type": "code",
      "source": "def is_vowel(char):\n    vowels = \"aeiou\"\n    return char.lower() in vowels\n\ndef pig_latin_word(word):\n    word = word.strip('!,;:-.?')\n    if is_vowel(word[0]):\n        return word + \"way\"\n    else:\n        first_vowel_index = next((i for i, char in enumerate(word) if is_vowel(char)), None)\n        if first_vowel_index is not None:\n            return word[first_vowel_index:] + word[:first_vowel_index] + \"ay\"\n        else:\n            return word + \"ay\"\n\ndef pig_latin_sentence(sentence):\n    words = sentence.split()\n    pig_latin_words = [pig_latin_word(word.strip('!,;:-.?').lower()) for word in words]\n    return \" \".join(pig_latin_words)\n\ndef main():\n    print(\"Pig Latin Translator\")\n    while True:\n        text = input(\"\\nEnter text: \")\n        print(\"English:\\t\", text.lower())\n        print(\"Pig Latin:\\t\", pig_latin_sentence(text))\n        continue_option = input(\"\\nContinue? (y/n): \").lower()\n        if continue_option != 'y':\n            print(\"Bye!\")\n            break\n\nif __name__ == \"__main__\":\n    main()\n",
      "metadata": {},
      "outputs": [],
      "execution_count": null
    }
  ]
}